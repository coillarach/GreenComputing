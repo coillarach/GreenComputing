{
 "cells": [
  {
   "cell_type": "markdown",
   "id": "343d2eaa",
   "metadata": {},
   "source": [
    "# Carbon footprint calculation\n",
    "\n",
    "This exercise uses the method described in [Obringer et al. (2021)](http://doi.org/10.1016/j.resconrec.2020.105389) to create a carbon footprint of individual internet use.\n",
    "\n",
    "One of the main factors is the energy mix in the user's home country. The model assumes that this is indicative of the greenhouse gas emission caused by the processing of the relevant data on the user's device and its transport across the network.\n",
    "\n",
    "The analysis is limited in two major ways. First the assumption above does not account for international data transfers, and second only a limited set of internet services is included. In the original work, the authors reported minimum and maximum values, but in this calculation only median values are used.\n",
    "\n",
    "\n",
    "\n",
    "## Code\n",
    "\n",
    "As always, the first step is to import the Python packages we need to use."
   ]
  },
  {
   "cell_type": "code",
   "execution_count": null,
   "id": "1614a65d",
   "metadata": {},
   "outputs": [],
   "source": [
    "import pandas as pd"
   ]
  },
  {
   "cell_type": "markdown",
   "id": "4bdc39d3",
   "metadata": {},
   "source": [
    "## Energy mix\n",
    "\n",
    "The dataset describes the energy in TWh used by different entities (countries or regions) by type of fuel. It is available for download from [Our World in Data](https://ourworldindata.org/energy-mix) and the categories are\n",
    "\n",
    "* Biofuels\n",
    "* Coal\n",
    "* Gas\n",
    "* Geo Biomass Other\n",
    "* Hydro\n",
    "* Nuclear\n",
    "* Oil\n",
    "* Solar\n",
    "* Wind"
   ]
  },
  {
   "cell_type": "code",
   "execution_count": null,
   "id": "099bdd89",
   "metadata": {},
   "outputs": [],
   "source": [
    "df_raw = pd.read_csv('../shared/energy-consumption-by-source-and-country.csv')\n",
    "df_raw.columns = [c[0:c.find(' - TWh')] if c.find(' - TWh') > 0 else c for c in df_raw.columns]\n",
    "df_raw.columns = [c[0:c.find(' Consumption')] if c.find(' Consumption') > 0 else c for c in df_raw.columns]"
   ]
  },
  {
   "cell_type": "markdown",
   "id": "a783d00d",
   "metadata": {},
   "source": [
    "## Reference data\n",
    "\n",
    "The data in the next cell are provided by [Obringer et al. (2021)](http://doi.org/10.1016/j.resconrec.2020.105389)\n",
    "\n",
    "The units are\n",
    "\n",
    "* Fuel coefficients: g of CO2eq/kWh\n",
    "* Elecricity usage: kWh/GB\n",
    "* App data: GB/hour"
   ]
  },
  {
   "cell_type": "code",
   "execution_count": null,
   "id": "b27ae128",
   "metadata": {},
   "outputs": [],
   "source": [
    "fuel_coefficients = pd.Series(\n",
    "    index = ['Biofuels','Coal','Gas','Geo Biomass Other','Hydro','Nuclear','Oil','Solar','Wind'],\n",
    "    data = [230,820,490,38,24,12,675,48,11]\n",
    "    )\n",
    "app_data = pd.Series(\n",
    "    index = ['Netflix','Hulu','Amazon Video','Youtube','Spotify','Skype','Zoom','Webex','FaceTime','Google Hangout','Google Duo','Facebook','Twitter','Instagram','Snapchat','TikTok','WhatsApp','WeChat','Online Gaming','Web Browsing'],\n",
    "    data = [4.0,4.3,4.0,8.1,0.0,1.0,1.5,1.5,0.2,1.8,0.5,0.1,0.4,0.1,0.2,0.9,0.2,0.1,0.2,0.2]\n",
    ")\n",
    "data_centre_usage = 0.01\n",
    "transmission_usage = 0.06"
   ]
  },
  {
   "cell_type": "markdown",
   "id": "30c7f22c",
   "metadata": {},
   "source": [
    "## Prepare the country profile\n",
    "\n",
    "The next cell filters the energy mix dataset according to the country specified. This creates a second pandas dataframe that is used in the remainder of the calculations. \n",
    "\n",
    "The units are\n",
    "\n",
    "* Raw data: TWh/year\n",
    "* Proportion is dimensionless\n",
    "* Footprint: kWh/GB\n",
    "* Coefficient: g of CO2eq/GB"
   ]
  },
  {
   "cell_type": "code",
   "execution_count": null,
   "id": "d94cea46",
   "metadata": {},
   "outputs": [],
   "source": [
    "country = 'France'\n",
    "year = 2021\n",
    "df = df_raw[df_raw['Entity'] == country]\n",
    "df = df[df['Year'] == year]\n",
    "df = df.iloc[:,3:].transpose()\n",
    "df.columns = [country]\n",
    "country_total_TWh = float(df.sum())\n",
    "df['proportion'] = df[country].apply(lambda x: x/country_total_TWh)\n",
    "df['fuel_coefficient'] = [fuel_coefficients[i] for i in df.index ]\n",
    "df = df.assign(footprint = df['proportion']  * df['fuel_coefficient'])\n",
    "coefficient = df['footprint'].sum() * (data_centre_usage + transmission_usage)"
   ]
  },
  {
   "cell_type": "markdown",
   "id": "5b930325",
   "metadata": {},
   "source": [
    "## Personal data\n",
    "\n",
    "We now have a coefficient that represents the carbon footprint of 1GB of data use in the selected country and a set of data that shows how much data is used by a particular application in an hour. The remaining variable is the number of hours spent using those application.\n",
    "\n",
    "In the code below, identify the applications that you use. Estimate the number of hours you spend using that application in a typical week and enter the number into the dictinary assignment in place of the zero.\n",
    "\n",
    "For example, if you estimate that you use Facebook for 3.5 hours a week, chang the code so that the relevant line reads\n",
    "\n",
    "    ...\n",
    "    'Facebook': 3.5,\n",
    "    ..."
   ]
  },
  {
   "cell_type": "code",
   "execution_count": null,
   "id": "f7a07b66",
   "metadata": {},
   "outputs": [],
   "source": [
    "app_hours = pd.Series({\n",
    "    'Amazon Video': 0,\n",
    "    'Facebook': 0,\n",
    "    'FaceTime': 0,\n",
    "    'Google Hangout': 0,\n",
    "    'Google Duo': 0,\n",
    "    'Hulu': 0,\n",
    "    'Instagram': 0,\n",
    "    'Netflix': 0,\n",
    "    'Online Gaming': 0,\n",
    "    'Skype': 0,\n",
    "    'Snapchat': 0,\n",
    "    'Spotify': 0,\n",
    "    'TikTok': 0,\n",
    "    'Twitter': 0,\n",
    "    'Web Browsing': 0,\n",
    "    'Webex': 0,\n",
    "    'WeChat': 0,\n",
    "    'WhatsApp': 0,\n",
    "    'Youtube': 0,\n",
    "    'Zoom': 0\n",
    "})"
   ]
  },
  {
   "cell_type": "markdown",
   "id": "aee81b0a",
   "metadata": {},
   "source": [
    "## Footprint calculation\n",
    "\n",
    "Finally, calculate your internet carbon footprint by running the code in the next cell. The result is the kg of CO<sub>2</sub> equivalent."
   ]
  },
  {
   "cell_type": "code",
   "execution_count": null,
   "id": "2d977628",
   "metadata": {},
   "outputs": [],
   "source": [
    "footprint = 0\n",
    "for i in app_hours.index:\n",
    "    footprint += app_data[i] * app_hours[i] * coefficient / 1000\n",
    "    \n",
    "print('Your personal internet footprint is {:.4f}kg of CO2eq per week ({:.4f}kg of CO2eq per year)'.format(footprint, footprint * 52))\n"
   ]
  },
  {
   "cell_type": "code",
   "execution_count": null,
   "id": "6f8341b5",
   "metadata": {},
   "outputs": [],
   "source": []
  }
 ],
 "metadata": {
  "kernelspec": {
   "display_name": "Python 3 (ipykernel)",
   "language": "python",
   "name": "python3"
  },
  "language_info": {
   "codemirror_mode": {
    "name": "ipython",
    "version": 3
   },
   "file_extension": ".py",
   "mimetype": "text/x-python",
   "name": "python",
   "nbconvert_exporter": "python",
   "pygments_lexer": "ipython3",
   "version": "3.10.8"
  }
 },
 "nbformat": 4,
 "nbformat_minor": 5
}
