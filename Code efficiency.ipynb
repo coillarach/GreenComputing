{
 "cells": [
  {
   "cell_type": "markdown",
   "id": "db9396e5",
   "metadata": {},
   "source": [
    "# Code efficiency\n",
    "\n",
    "This exercise explores some tools that can be used to measure code execution time and to calculate the CO<sub>2</sub>-equivalent emissions that are generated. The two quantities are closely correlated, but other factors such as the carbon intensity of the local energy supply can affect the final calculations.\n",
    "\n",
    "## Execution timing\n",
    "\n",
    "Python is the most popular language for many resource-intensive activities such as machine learning and data science. Because the datasets used in those areas are so large, processing takes a lot of time and a lot of resources. Being able to measure execution time is the first step on the way to identifying bottlenecks and making improvements.\n",
    "\n",
    "Python provides a built-in package called [`timeit`](https://docs.python.org/3/library/timeit.html) for timing code execution. It can be run in a few different ways; we will be using the `timeit` convenience function which takes three important parameters:\n",
    "\n",
    "``` python\n",
    "timeit.timeit(stmt='pass', setup='pass', number=1000000)\n",
    "```\n",
    "\n",
    "* `stmt` is the code to be timed\n",
    "* `setup` is where import statements and other initialisation code can be defined. These statements are not included in the timing\n",
    "* `number` is the number of times that `stmt` should be run. The result is divided by the same number to give the average time for a single execution\n",
    "\n",
    "The following code creates a list of 10000 random integers using the [`random`](https://docs.python.org/3/library/random.html) package. It runs 10000 times and displays the average time for one execution in seconds. "
   ]
  },
  {
   "cell_type": "code",
   "execution_count": null,
   "id": "df040f05",
   "metadata": {},
   "outputs": [],
   "source": [
    "import timeit\n",
    "\n",
    "t1 = timeit.timeit(stmt='[random.randint(0, 1000) for r in range(10000)]', \n",
    "              setup='import random', \n",
    "              number=1000\n",
    "             )\n",
    "print('Creating a list of 10000 random integers takes {:.4f}s on average'.format(t1/1000))"
   ]
  },
  {
   "cell_type": "markdown",
   "id": "6ccea6d8",
   "metadata": {},
   "source": [
    "We can use `timeit` to examine the execution time of different sorting algorithms. The code below creates a list of random integers as before, but this time we will pass it into the `timeit` function in the `setup` parameter. This allows us to compare different sorting algorithms directy since they are being applied to the same object. Here, we compare the *MergeSort* and *BubbleSort* implementations from a package called [`pysort`](https://github.com/srimani-programmer/pysort). To reduce the waiting time, we only run each algorithm 20 times."
   ]
  },
  {
   "cell_type": "code",
   "execution_count": null,
   "id": "c2f11153",
   "metadata": {},
   "outputs": [],
   "source": [
    "import random\n",
    "from sorting_techniques import pysort\n",
    "\n",
    "list_size = 2500\n",
    "numbers = [random.randint(0, 1000) for r in range(list_size)]\n",
    "repeats = 20\n",
    "sortObj = pysort.Sorting()\n",
    "\n",
    "t1 = timeit.timeit(stmt='sortResult = sortObj.bubbleSort(numbers)', \n",
    "              setup='from __main__ import sortObj, numbers', \n",
    "              number=repeats\n",
    "             )\n",
    "print('BubbleSort: {:.4f}s'.format(t1/repeats))\n",
    "t2 = timeit.timeit(stmt='sortResult = sortObj.mergeSort(numbers)', \n",
    "              setup='from __main__ import sortObj, numbers', \n",
    "              number=repeats\n",
    "             )\n",
    "\n",
    "print('MergeSort: {:.4f}s'.format(t2/repeats))"
   ]
  },
  {
   "cell_type": "markdown",
   "id": "eef76673",
   "metadata": {},
   "source": [
    "From the results, it is clear that the choice of algorithm has a significant effect on the execution time and hence on carbon emissions. This raises a couple of questions:\n",
    "\n",
    "* Which sorting algorithm is the fastest?\n",
    "* How does the default `sorted()` function perform in comparison to other sorting algorithms?\n",
    "\n",
    "The default python sorting function uses an algoritm called [TimSort](https://en.wikipedia.org/wiki/Timsort). The code below runs it on the same list of random integers as before, and also does the same with all of the sorting algorithms implemented in `pySort`. To make it easier to plot the results they are collected into a [pandas](https://pandas.pydata.org/) Series object.\n",
    "\n",
    "(Note that QuickSort may fail if the list is too large because it exceeds the maximum allowed number of recursions)"
   ]
  },
  {
   "cell_type": "code",
   "execution_count": null,
   "id": "67c41110",
   "metadata": {},
   "outputs": [],
   "source": [
    "import pandas as pd\n",
    "\n",
    "numbers = [random.randint(0, 1000) for r in range(list_size)]\n",
    "\n",
    "algorithms = ['sorted', 'quickSort', 'bubbleSort', 'selectionSort', 'insertionSort', 'shellSort', 'pigeonHoleSort', 'heapSort', 'gnomeSort', 'pancakeSort', 'bogoSort', 'mergeSort', 'cocktailSort', 'brickSort', 'radixSort']\n",
    "trials = pd.Series(index=algorithms, dtype=float)\n",
    "\n",
    "for algorithm in algorithms:\n",
    "    if algorithm == 'sorted':\n",
    "        t1 = timeit.timeit(stmt='sortResult = sorted(numbers)', \n",
    "                      setup='from __main__ import numbers', \n",
    "                      number=repeats\n",
    "                     )\n",
    "    elif algorithm == 'quickSort':\n",
    "        try:\n",
    "            t1 = timeit.timeit(stmt='sortResult = quickSort(numbers, 0, len(numbers)-1)', \n",
    "                          setup='from __main__ import sortObj, numbers', \n",
    "                          number=repeats\n",
    "                         )\n",
    "        except:\n",
    "            pass\n",
    "    else:\n",
    "        method = None\n",
    "        try:\n",
    "            method = getattr(sortObj, algorithm)\n",
    "        except AttributeError:\n",
    "            raise NotImplementedError(\"Class `{}` does not implement `{}`\".format(my_cls.__class__.__name__, method_name))\n",
    "        t1 = timeit.timeit(stmt='sortResult = method(numbers)', \n",
    "                      setup='from __main__ import method, numbers', \n",
    "                      number=repeats\n",
    "                     )\n",
    "        \n",
    "    trials[algorithm] = t1/repeats\n"
   ]
  },
  {
   "cell_type": "markdown",
   "id": "74050154",
   "metadata": {},
   "source": [
    "With the results now in, we can compare them on a bar chart. If you need to zoom in to see some of the smaller values, just adjust the `limit` value to eliminate values above a threshold and run the plot again."
   ]
  },
  {
   "cell_type": "code",
   "execution_count": null,
   "id": "8b78530e",
   "metadata": {},
   "outputs": [],
   "source": [
    "limit = 1\n",
    "ax = trials[trials < limit].plot.bar()\n",
    "ax.set_title(\"Comparison of sorting algorithms\")\n",
    "ax.set_ylabel(\"Execution time (s)\")"
   ]
  },
  {
   "cell_type": "markdown",
   "id": "246175b9",
   "metadata": {},
   "source": [
    "We can also check the complexity of a sorting algorithm against its theoretical performance. The thoeretical complexity of bubbleSort, for example, is O(n<sup>2</sup>). We can check this by running the algorithm several times for arrays of different lengths and plotting the actual performance against expected. Remember that the Big O expression represents the worst case."
   ]
  },
  {
   "cell_type": "code",
   "execution_count": null,
   "id": "3d7773d0",
   "metadata": {
    "scrolled": false
   },
   "outputs": [],
   "source": [
    "import math\n",
    "\n",
    "df = pd.DataFrame(index=[n for n in range(10, 1000, 100)], columns=['actual', 'expected'])\n",
    "repeats = 20\n",
    "factor = 1\n",
    "\n",
    "for n in range(10, 1000, 100):\n",
    "    numbers = [random.randint(0, 1000) for r in range(n)]\n",
    "    t1 = timeit.timeit(stmt='sortResult = sortObj.bubbleSort(numbers)', \n",
    "                       setup='from __main__ import sortObj, numbers', \n",
    "                       number=repeats\n",
    "                      )\n",
    "    actual = t1 / repeats\n",
    "    expected = n**2\n",
    "    if n == 10:\n",
    "        factor = expected / actual\n",
    "    df.loc[n] = [actual, expected/factor]\n",
    "\n",
    "ax = df.plot()\n",
    "ax.set_title(\"BubbleSort: Comparison of actual and expected performance\")\n",
    "ax.set_ylabel(\"Execution time (s)\")"
   ]
  },
  {
   "cell_type": "markdown",
   "id": "ac0f6b4c",
   "metadata": {},
   "source": [
    "## Emissions\n",
    "\n",
    "Execution time correlates closely with emissions, but there are a few contextual parameters that may also be important. For example, the carbon intensity of the local energy supply will have a major impact on the results.\n",
    "\n",
    "The python package [CodeCarbon](https://codecarbon.io/) combines execution time with the local energy environment and also includes factors representing the cloud provider if applicable. CodeCarbon reports its results in kg CO<sub>2</sub>-eq\n",
    "\n",
    "As an example, we can use CodeCarbon to calculate the emissions generated as a result of performing the seach algorithm comparison from earlier."
   ]
  },
  {
   "cell_type": "code",
   "execution_count": null,
   "id": "87024eca",
   "metadata": {},
   "outputs": [],
   "source": [
    "from codecarbon import EmissionsTracker\n",
    "tracker = EmissionsTracker()\n",
    "tracker.start()\n",
    "\n",
    "numbers = [random.randint(0, 1000) for r in range(list_size)]\n",
    "\n",
    "algorithms = ['sorted', 'quickSort', 'bubbleSort', 'selectionSort', 'insertionSort', 'shellSort', 'pigeonHoleSort', 'heapSort', 'gnomeSort', 'pancakeSort', 'bogoSort', 'mergeSort', 'cocktailSort', 'brickSort', 'radixSort']\n",
    "trials = pd.Series(index=algorithms, dtype=float)\n",
    "\n",
    "for algorithm in algorithms:\n",
    "    if algorithm == 'sorted':\n",
    "        t1 = timeit.timeit(stmt='sortResult = sorted(numbers)', \n",
    "                      setup='from __main__ import numbers', \n",
    "                      number=repeats\n",
    "                     )\n",
    "    elif algorithm == 'quickSort':\n",
    "        try:\n",
    "            t1 = timeit.timeit(stmt='sortResult = quickSort(numbers, 0, len(numbers)-1)', \n",
    "                          setup='from __main__ import sortObj, numbers', \n",
    "                          number=repeats\n",
    "                         )\n",
    "        except:\n",
    "            pass\n",
    "    else:\n",
    "        method = None\n",
    "        try:\n",
    "            method = getattr(sortObj, algorithm)\n",
    "        except AttributeError:\n",
    "            raise NotImplementedError(\"Class `{}` does not implement `{}`\".format(my_cls.__class__.__name__, method_name))\n",
    "        t1 = timeit.timeit(stmt='sortResult = method(numbers)', \n",
    "                      setup='from __main__ import method, numbers', \n",
    "                      number=repeats\n",
    "                     )\n",
    "        \n",
    "    trials[algorithm] = t1/repeats\n",
    "\n",
    "emissions = tracker.stop()\n",
    "\n",
    "print(\"Emissions: {:.4f}kg CO2-eq ({:.4f}g CO2-eq)\".format(emissions, emissions*1000))\n"
   ]
  }
 ],
 "metadata": {
  "kernelspec": {
   "display_name": "Python 3 (ipykernel)",
   "language": "python",
   "name": "python3"
  },
  "language_info": {
   "codemirror_mode": {
    "name": "ipython",
    "version": 3
   },
   "file_extension": ".py",
   "mimetype": "text/x-python",
   "name": "python",
   "nbconvert_exporter": "python",
   "pygments_lexer": "ipython3",
   "version": "3.10.8"
  }
 },
 "nbformat": 4,
 "nbformat_minor": 5
}
